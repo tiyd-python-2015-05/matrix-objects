{
 "cells": [
  {
   "cell_type": "markdown",
   "metadata": {},
   "source": [
    "Imagine you are an adventurer in a world of fantasy, swords, and magic. You have captured 10 fire-drakes, newly hatched. You wish to know how many drakes you will have in 20 years, so you may grant them to your friends and family upon your death bed.\n",
    "\n",
    "Fire-drakes are not dragons, by the way. They only live to 12 years max and are very stupid, which is good because dragons are tricky and raising them only results in pain and suffering.\n",
    "\n",
    "Here's what we know about fire-drake fertility:\n",
    "\n",
    "* Between ages 0 and 2, drakes are not fertile.\n",
    "* Between ages 2 and 4, each drake has a 25% chance to produce 1 offspring.\n",
    "* Between ages 4 and 6, each drake has a 60% chance to produce 1 offspring.\n",
    "* Between ages 6 and 8, each drake has a 80% chance to produce 1 offspring.\n",
    "* Between ages 8 and 10, each drake has a 15% chance to produce 1 offspring.\n",
    "* Between ages 10 and 12, drakes are not fertile.\n",
    "\n",
    "Here's what we know about fire-drake mortality:\n",
    "\n",
    "* Between ages 0 and 2, 30% of drakes die. Life is cruel.\n",
    "* Between ages 2 and 4, only 5% of drakes die. If they've lived to 2, they're tough.\n",
    "* Between ages 4 and 6, 10% of drakes die.\n",
    "* Between ages 6 and 8, 10% of drakes die.\n",
    "* Between ages 8 and 10, 50% of drakes die.\n",
    "* Between ages 10 and 12, all drakes die.\n",
    "\n",
    "If you want to know how many drakes and of what age groups you'll have in 40 years, you could do a lot of math by hand. It will not be fun. Or, you can use matrices!\n",
    "\n",
    "There's a matrix type called a _Leslie matrix_ that can be used to predict population. You put birthrates in the first row and survival rates in a diagonal. For our drakes, it looks like this:\n",
    "\n",
    "$$\n",
    "\\begin{bmatrix}\n",
    "0 & 0.25 & 0.6 & 0.8 & 0.15 & 0 \\\\\n",
    "0.7 & 0 & 0 & 0 & 0 & 0 \\\\\n",
    "0 & 0.95 & 0 & 0 & 0 & 0 \\\\\n",
    "0 & 0 & 0.9 & 0 & 0 & 0 \\\\\n",
    "0 & 0 & 0 & 0.9 & 0 & 0 \\\\\n",
    "0 & 0 & 0 & 0 & 0.5 & 0 \\\\\n",
    "\\end{bmatrix}\n",
    "$$\n",
    "\n",
    "Each row and column of this matrix corresponds to a 2-year period.\n",
    "\n",
    "Ok, so assuming I have 10 newly-hatched fire-drakes, how many will I have in 2 years? You set up a vector of population groups. I only have drakes in my 0-2 age group, so it looks like this:\n",
    "\n",
    "$$\n",
    "\\begin{bmatrix}\n",
    "10 \\\\\n",
    "0 \\\\\n",
    "0 \\\\\n",
    "0 \\\\\n",
    "0 \\\\\n",
    "0 \\\\\n",
    "\\end{bmatrix}\n",
    "$$\n",
    "\n",
    "I can multiply these together to find out what I have:\n",
    "\n",
    "$$\n",
    "\\begin{bmatrix}\n",
    "0 & 0.25 & 0.6 & 0.8 & 0.15 & 0 \\\\\n",
    "0.7 & 0 & 0 & 0 & 0 & 0 \\\\\n",
    "0 & 0.95 & 0 & 0 & 0 & 0 \\\\\n",
    "0 & 0 & 0.9 & 0 & 0 & 0 \\\\\n",
    "0 & 0 & 0 & 0.9 & 0 & 0 \\\\\n",
    "0 & 0 & 0 & 0 & 0.5 & 0 \\\\\n",
    "\\end{bmatrix}\n",
    "\\times\n",
    "\\begin{bmatrix}\n",
    "10 \\\\\n",
    "0 \\\\\n",
    "0 \\\\\n",
    "0 \\\\\n",
    "0 \\\\\n",
    "0 \\\\\n",
    "\\end{bmatrix}\n",
    "=\n",
    "\\begin{bmatrix}\n",
    "0 \\\\\n",
    "7 \\\\\n",
    "0 \\\\\n",
    "0 \\\\\n",
    "0 \\\\\n",
    "0 \\\\\n",
    "\\end{bmatrix}\n",
    "$$\n",
    "\n",
    "That wasn't so useful, but let me continue. These 7 drakes age another two years:\n",
    "\n",
    "$$\n",
    "\\begin{bmatrix}\n",
    "0 & 0.25 & 0.6 & 0.8 & 0.15 & 0 \\\\\n",
    "0.7 & 0 & 0 & 0 & 0 & 0 \\\\\n",
    "0 & 0.95 & 0 & 0 & 0 & 0 \\\\\n",
    "0 & 0 & 0.9 & 0 & 0 & 0 \\\\\n",
    "0 & 0 & 0 & 0.9 & 0 & 0 \\\\\n",
    "0 & 0 & 0 & 0 & 0.5 & 0 \\\\\n",
    "\\end{bmatrix}\n",
    "\\times\n",
    "\\begin{bmatrix}\n",
    "0 \\\\\n",
    "7 \\\\\n",
    "0 \\\\\n",
    "0 \\\\\n",
    "0 \\\\\n",
    "0 \\\\\n",
    "\\end{bmatrix}\n",
    "=\n",
    "\\begin{bmatrix}\n",
    "7 \\times 0.25 \\\\\n",
    "0 \\\\\n",
    "7 \\times 0.95 \\\\\n",
    "0 \\\\\n",
    "0 \\\\\n",
    "0 \\\\\n",
    "\\end{bmatrix}\n",
    "=\n",
    "\\begin{bmatrix}\n",
    "1.75 \\\\\n",
    "0 \\\\\n",
    "6.65 \\\\\n",
    "0 \\\\\n",
    "0 \\\\\n",
    "0 \\\\\n",
    "\\end{bmatrix}\n",
    "$$\n",
    "\n",
    "Obviously, I don't have 1.75 new drakes, but if I'm going to keep calculating, keeping the decimal is fine so I adhere to average rates.\n",
    "\n",
    "Let's keep doing this! At 6 years:\n",
    "\n",
    "$$\n",
    "\\begin{bmatrix}\n",
    "0 & 0.25 & 0.6 & 0.8 & 0.15 & 0 \\\\\n",
    "0.7 & 0 & 0 & 0 & 0 & 0 \\\\\n",
    "0 & 0.95 & 0 & 0 & 0 & 0 \\\\\n",
    "0 & 0 & 0.9 & 0 & 0 & 0 \\\\\n",
    "0 & 0 & 0 & 0.9 & 0 & 0 \\\\\n",
    "0 & 0 & 0 & 0 & 0.5 & 0 \\\\\n",
    "\\end{bmatrix}\n",
    "\\times\n",
    "\\begin{bmatrix}\n",
    "1.75 \\\\\n",
    "0 \\\\\n",
    "6.65 \\\\\n",
    "0 \\\\\n",
    "0 \\\\\n",
    "0 \\\\\n",
    "\\end{bmatrix}\n",
    "=\n",
    "\\begin{bmatrix}\n",
    "6.65 \\times 0.6 \\\\\n",
    "1.75 \\times 0.7 \\\\\n",
    "0 \\\\\n",
    "6.65 \\times 0.9 \\\\\n",
    "0 \\\\\n",
    "0 \\\\\n",
    "\\end{bmatrix}\n",
    "=\n",
    "\\begin{bmatrix}\n",
    "3.99 \\\\\n",
    "1.225 \\\\\n",
    "0 \\\\\n",
    "5.985 \\\\\n",
    "0 \\\\\n",
    "0 \\\\\n",
    "\\end{bmatrix}\n",
    "$$\n",
    "\n",
    "Ok, I started with 10 and still have about 10. Does this get better?\n",
    "\n",
    "$$\n",
    "\\begin{bmatrix}\n",
    "0 & 0.25 & 0.6 & 0.8 & 0.15 & 0 \\\\\n",
    "0.7 & 0 & 0 & 0 & 0 & 0 \\\\\n",
    "0 & 0.95 & 0 & 0 & 0 & 0 \\\\\n",
    "0 & 0 & 0.9 & 0 & 0 & 0 \\\\\n",
    "0 & 0 & 0 & 0.9 & 0 & 0 \\\\\n",
    "0 & 0 & 0 & 0 & 0.5 & 0 \\\\\n",
    "\\end{bmatrix}\n",
    "\\times\n",
    "\\begin{bmatrix}\n",
    "3.99 \\\\\n",
    "1.225 \\\\\n",
    "0 \\\\\n",
    "5.985 \\\\\n",
    "0 \\\\\n",
    "0 \\\\\n",
    "\\end{bmatrix}\n",
    "=\n",
    "\\begin{bmatrix}\n",
    "5.985 \\times 0.8 + 1.225 \\times 0.25 \\\\\n",
    "3.99 \\times 0.7 \\\\\n",
    "1.225 \\times 0.9 \\\\\n",
    "0 \\\\\n",
    "5.985 \\times 0.9 \\\\\n",
    "0 \\\\\n",
    "\\end{bmatrix}\n",
    "=\n",
    "\\begin{bmatrix}\n",
    "5.09425 \\\\\n",
    "2.793 \\\\\n",
    "1.1025 \\\\\n",
    "0 \\\\\n",
    "5.3865 \\\\\n",
    "0 \\\\\n",
    "\\end{bmatrix}\n",
    "$$\n",
    "\n",
    "Ok, it looks like I have about 14 drakes 8 years in. This is getting tedious, but it looks like I might be able to sustain a population of these creatures.\n",
    "\n",
    "If you didn't notice so far, this calculation ends up looking like the following, where _L_ is our Leslie matrix, _d_ is our original distribution, and _n_ is the number of 2-year cycles:\n",
    "\n",
    "$$\n",
    "d_n = L^n \\times d\n",
    "$$"
   ]
  },
  {
   "cell_type": "markdown",
   "metadata": {},
   "source": [
    "Using the above math plus your matrix library, calculate how many drakes of each age I will have in 20 2-year cycles."
   ]
  },
  {
   "cell_type": "code",
   "execution_count": 1,
   "metadata": {
    "collapsed": true
   },
   "outputs": [],
   "source": [
    "from matrix_math import ShapeException, Vector, Matrix"
   ]
  },
  {
   "cell_type": "code",
   "execution_count": 77,
   "metadata": {
    "collapsed": true
   },
   "outputs": [],
   "source": [
    "leslie = Matrix([[0, 0.25, 0.6, 0.8, 0.15, 0], [0.7, 0, 0, 0, 0, 0], [0, 0.95, 0, 0, 0, 0], \\\n",
    "                [0, 0, 0.9, 0, 0, 0], [0, 0, 0, 0.9, 0, 0], [0, 0, 0, 0, 0.5, 0]])"
   ]
  },
  {
   "cell_type": "code",
   "execution_count": 78,
   "metadata": {
    "collapsed": false
   },
   "outputs": [
    {
     "name": "stdout",
     "output_type": "stream",
     "text": [
      "[[0, 0.25, 0.6, 0.8, 0.15, 0], [0.7, 0, 0, 0, 0, 0], [0, 0.95, 0, 0, 0, 0], [0, 0, 0.9, 0, 0, 0], [0, 0, 0, 0.9, 0, 0], [0, 0, 0, 0, 0.5, 0]]\n"
     ]
    }
   ],
   "source": [
    "print(leslie.values)"
   ]
  },
  {
   "cell_type": "code",
   "execution_count": 79,
   "metadata": {
    "collapsed": false
   },
   "outputs": [],
   "source": [
    "dragons = Vector([10, 0, 0, 0, 0, 0])"
   ]
  },
  {
   "cell_type": "code",
   "execution_count": 80,
   "metadata": {
    "collapsed": true
   },
   "outputs": [],
   "source": [
    "for i in range(20):\n",
    "    dragons = leslie * dragons"
   ]
  },
  {
   "cell_type": "code",
   "execution_count": 81,
   "metadata": {
    "collapsed": false
   },
   "outputs": [
    {
     "name": "stdout",
     "output_type": "stream",
     "text": [
      "[6.149914942919132, 4.182186803339321, 3.8477209681295763, 3.283445777563774, 2.841646230444824, 1.4082839376892242]\n"
     ]
    }
   ],
   "source": [
    "print(dragons.values)"
   ]
  },
  {
   "cell_type": "code",
   "execution_count": 82,
   "metadata": {
    "collapsed": false
   },
   "outputs": [],
   "source": [
    "test = Matrix([[.25, .5],[0, .95]])"
   ]
  },
  {
   "cell_type": "code",
   "execution_count": 83,
   "metadata": {
    "collapsed": false
   },
   "outputs": [],
   "source": [
    "leslie20 = leslie"
   ]
  },
  {
   "cell_type": "code",
   "execution_count": 84,
   "metadata": {
    "collapsed": false
   },
   "outputs": [
    {
     "name": "stdout",
     "output_type": "stream",
     "text": [
      "[[0.6407182838330322, 0.9533865528483813, 0.8694631478701617, 0.5726496552122178, 0.09224872414378701, 0.0], [0.4304940460043394, 0.6407182838330322, 0.589207447887139, 0.38925308434056616, 0.06273280205008984, 0.0], [0.3973077463172356, 0.5842419195773176, 0.5361636137495489, 0.35706936411382273, 0.05771581452194364, 0.0], [0.34629488713166195, 0.5108242452650171, 0.4623621114070214, 0.3053003556617743, 0.04925168666345661, 0.0], [0.2955101199807398, 0.445236283454994, 0.4061729376245585, 0.265355364753195, 0.042624693456672365, 0.0], [0.1420823115222412, 0.21107865712909984, 0.19694480404940706, 0.13093009099881617, 0.021124259065338366, 0.0]]\n"
     ]
    }
   ],
   "source": [
    "for _ in range(20):\n",
    "    leslie20 *= leslie\n",
    "print(leslie20.values)"
   ]
  },
  {
   "cell_type": "code",
   "execution_count": 89,
   "metadata": {
    "collapsed": false
   },
   "outputs": [
    {
     "name": "stdout",
     "output_type": "stream",
     "text": [
      "[6.407182838330322, 4.304940460043394, 3.973077463172356, 3.4629488713166197, 2.9551011998073977, 1.420823115222412]\n"
     ]
    }
   ],
   "source": [
    "print((leslie20 * Vector([10,0,0,0,0,0])).values)"
   ]
  },
  {
   "cell_type": "code",
   "execution_count": null,
   "metadata": {
    "collapsed": true
   },
   "outputs": [],
   "source": []
  }
 ],
 "metadata": {
  "kernelspec": {
   "display_name": "Python 3",
   "language": "python",
   "name": "python3"
  },
  "language_info": {
   "codemirror_mode": {
    "name": "ipython",
    "version": 3
   },
   "file_extension": ".py",
   "mimetype": "text/x-python",
   "name": "python",
   "nbconvert_exporter": "python",
   "pygments_lexer": "ipython3",
   "version": "3.4.3"
  }
 },
 "nbformat": 4,
 "nbformat_minor": 0
}
