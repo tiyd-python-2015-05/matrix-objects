{
 "cells": [
  {
   "cell_type": "markdown",
   "metadata": {},
   "source": [
    "Imagine you are an adventurer in a world of fantasy, swords, and magic. You have captured 10 fire-drakes, newly hatched. You wish to know how many drakes you will have in 20 years, so you may grant them to your friends and family upon your death bed.\n",
    "\n",
    "Fire-drakes are not dragons, by the way. They only live to 12 years max and are very stupid, which is good because dragons are tricky and raising them only results in pain and suffering.\n",
    "\n",
    "Here's what we know about fire-drake fertility:\n",
    "\n",
    "* Between ages 0 and 2, drakes are not fertile.\n",
    "* Between ages 2 and 4, each drake has a 25% chance to produce 1 offspring.\n",
    "* Between ages 4 and 6, each drake has a 60% chance to produce 1 offspring.\n",
    "* Between ages 6 and 8, each drake has a 80% chance to produce 1 offspring.\n",
    "* Between ages 8 and 10, each drake has a 15% chance to produce 1 offspring.\n",
    "* Between ages 10 and 12, drakes are not fertile.\n",
    "\n",
    "Here's what we know about fire-drake mortality:\n",
    "\n",
    "* Between ages 0 and 2, 30% of drakes die. Life is cruel.\n",
    "* Between ages 2 and 4, only 5% of drakes die. If they've lived to 2, they're tough.\n",
    "* Between ages 4 and 6, 10% of drakes die.\n",
    "* Between ages 6 and 8, 10% of drakes die.\n",
    "* Between ages 8 and 10, 50% of drakes die.\n",
    "* Between ages 10 and 12, all drakes die.\n",
    "\n",
    "If you want to know how many drakes and of what age groups you'll have in 40 years, you could do a lot of math by hand. It will not be fun. Or, you can use matrices!\n",
    "\n",
    "There's a matrix type called a _Leslie matrix_ that can be used to predict population. You put birthrates in the first row and survival rates in a diagonal. For our drakes, it looks like this:\n",
    "\n",
    "$$\n",
    "\\begin{bmatrix}\n",
    "0 & 0.25 & 0.6 & 0.8 & 0.15 & 0 \\\\\n",
    "0.7 & 0 & 0 & 0 & 0 & 0 \\\\\n",
    "0 & 0.95 & 0 & 0 & 0 & 0 \\\\\n",
    "0 & 0 & 0.9 & 0 & 0 & 0 \\\\\n",
    "0 & 0 & 0 & 0.9 & 0 & 0 \\\\\n",
    "0 & 0 & 0 & 0 & 0.5 & 0 \\\\\n",
    "\\end{bmatrix}\n",
    "$$\n",
    "\n",
    "Each row and column of this matrix corresponds to a 2-year period.\n",
    "\n",
    "Ok, so assuming I have 10 newly-hatched fire-drakes, how many will I have in 2 years? You set up a vector of population groups. I only have drakes in my 0-2 age group, so it looks like this:\n",
    "\n",
    "$$\n",
    "\\begin{bmatrix}\n",
    "10 \\\\\n",
    "0 \\\\\n",
    "0 \\\\\n",
    "0 \\\\\n",
    "0 \\\\\n",
    "0 \\\\\n",
    "\\end{bmatrix}\n",
    "$$\n",
    "\n",
    "I can multiply these together to find out what I have:\n",
    "\n",
    "$$\n",
    "\\begin{bmatrix}\n",
    "0 & 0.25 & 0.6 & 0.8 & 0.15 & 0 \\\\\n",
    "0.7 & 0 & 0 & 0 & 0 & 0 \\\\\n",
    "0 & 0.95 & 0 & 0 & 0 & 0 \\\\\n",
    "0 & 0 & 0.9 & 0 & 0 & 0 \\\\\n",
    "0 & 0 & 0 & 0.9 & 0 & 0 \\\\\n",
    "0 & 0 & 0 & 0 & 0.5 & 0 \\\\\n",
    "\\end{bmatrix}\n",
    "\\times\n",
    "\\begin{bmatrix}\n",
    "10 \\\\\n",
    "0 \\\\\n",
    "0 \\\\\n",
    "0 \\\\\n",
    "0 \\\\\n",
    "0 \\\\\n",
    "\\end{bmatrix}\n",
    "=\n",
    "\\begin{bmatrix}\n",
    "0 \\\\\n",
    "7 \\\\\n",
    "0 \\\\\n",
    "0 \\\\\n",
    "0 \\\\\n",
    "0 \\\\\n",
    "\\end{bmatrix}\n",
    "$$\n",
    "\n",
    "That wasn't so useful, but let me continue. These 7 drakes age another two years:\n",
    "\n",
    "$$\n",
    "\\begin{bmatrix}\n",
    "0 & 0.25 & 0.6 & 0.8 & 0.15 & 0 \\\\\n",
    "0.7 & 0 & 0 & 0 & 0 & 0 \\\\\n",
    "0 & 0.95 & 0 & 0 & 0 & 0 \\\\\n",
    "0 & 0 & 0.9 & 0 & 0 & 0 \\\\\n",
    "0 & 0 & 0 & 0.9 & 0 & 0 \\\\\n",
    "0 & 0 & 0 & 0 & 0.5 & 0 \\\\\n",
    "\\end{bmatrix}\n",
    "\\times\n",
    "\\begin{bmatrix}\n",
    "0 \\\\\n",
    "7 \\\\\n",
    "0 \\\\\n",
    "0 \\\\\n",
    "0 \\\\\n",
    "0 \\\\\n",
    "\\end{bmatrix}\n",
    "=\n",
    "\\begin{bmatrix}\n",
    "7 \\times 0.25 \\\\\n",
    "0 \\\\\n",
    "7 \\times 0.95 \\\\\n",
    "0 \\\\\n",
    "0 \\\\\n",
    "0 \\\\\n",
    "\\end{bmatrix}\n",
    "=\n",
    "\\begin{bmatrix}\n",
    "1.75 \\\\\n",
    "0 \\\\\n",
    "6.65 \\\\\n",
    "0 \\\\\n",
    "0 \\\\\n",
    "0 \\\\\n",
    "\\end{bmatrix}\n",
    "$$\n",
    "\n",
    "Obviously, I don't have 1.75 new drakes, but if I'm going to keep calculating, keeping the decimal is fine so I adhere to average rates.\n",
    "\n",
    "Let's keep doing this! At 6 years:\n",
    "\n",
    "$$\n",
    "\\begin{bmatrix}\n",
    "0 & 0.25 & 0.6 & 0.8 & 0.15 & 0 \\\\\n",
    "0.7 & 0 & 0 & 0 & 0 & 0 \\\\\n",
    "0 & 0.95 & 0 & 0 & 0 & 0 \\\\\n",
    "0 & 0 & 0.9 & 0 & 0 & 0 \\\\\n",
    "0 & 0 & 0 & 0.9 & 0 & 0 \\\\\n",
    "0 & 0 & 0 & 0 & 0.5 & 0 \\\\\n",
    "\\end{bmatrix}\n",
    "\\times\n",
    "\\begin{bmatrix}\n",
    "1.75 \\\\\n",
    "0 \\\\\n",
    "6.65 \\\\\n",
    "0 \\\\\n",
    "0 \\\\\n",
    "0 \\\\\n",
    "\\end{bmatrix}\n",
    "=\n",
    "\\begin{bmatrix}\n",
    "6.65 \\times 0.6 \\\\\n",
    "1.75 \\times 0.7 \\\\\n",
    "0 \\\\\n",
    "6.65 \\times 0.9 \\\\\n",
    "0 \\\\\n",
    "0 \\\\\n",
    "\\end{bmatrix}\n",
    "=\n",
    "\\begin{bmatrix}\n",
    "3.99 \\\\\n",
    "1.225 \\\\\n",
    "0 \\\\\n",
    "5.985 \\\\\n",
    "0 \\\\\n",
    "0 \\\\\n",
    "\\end{bmatrix}\n",
    "$$\n",
    "\n",
    "Ok, I started with 10 and still have about 10. Does this get better?\n",
    "\n",
    "$$\n",
    "\\begin{bmatrix}\n",
    "0 & 0.25 & 0.6 & 0.8 & 0.15 & 0 \\\\\n",
    "0.7 & 0 & 0 & 0 & 0 & 0 \\\\\n",
    "0 & 0.95 & 0 & 0 & 0 & 0 \\\\\n",
    "0 & 0 & 0.9 & 0 & 0 & 0 \\\\\n",
    "0 & 0 & 0 & 0.9 & 0 & 0 \\\\\n",
    "0 & 0 & 0 & 0 & 0.5 & 0 \\\\\n",
    "\\end{bmatrix}\n",
    "\\times\n",
    "\\begin{bmatrix}\n",
    "3.99 \\\\\n",
    "1.225 \\\\\n",
    "0 \\\\\n",
    "5.985 \\\\\n",
    "0 \\\\\n",
    "0 \\\\\n",
    "\\end{bmatrix}\n",
    "=\n",
    "\\begin{bmatrix}\n",
    "5.985 \\times 0.8 + 1.225 \\times 0.25 \\\\\n",
    "3.99 \\times 0.7 \\\\\n",
    "1.225 \\times 0.9 \\\\\n",
    "0 \\\\\n",
    "5.985 \\times 0.9 \\\\\n",
    "0 \\\\\n",
    "\\end{bmatrix}\n",
    "=\n",
    "\\begin{bmatrix}\n",
    "5.09425 \\\\\n",
    "2.793 \\\\\n",
    "1.1025 \\\\\n",
    "0 \\\\\n",
    "5.3865 \\\\\n",
    "0 \\\\\n",
    "\\end{bmatrix}\n",
    "$$\n",
    "\n",
    "Ok, it looks like I have about 14 drakes 8 years in. This is getting tedious, but it looks like I might be able to sustain a population of these creatures.\n",
    "\n",
    "If you didn't notice so far, this calculation ends up looking like the following, where _L_ is our Leslie matrix, _d_ is our original distribution, and _n_ is the number of 2-year cycles:\n",
    "\n",
    "$$\n",
    "d_n = L^n \\times d\n",
    "$$"
   ]
  },
  {
   "cell_type": "markdown",
   "metadata": {},
   "source": [
    "Using the above math plus your matrix library, calculate how many drakes of each age I will have in 20 2-year cycles."
   ]
  },
  {
   "cell_type": "code",
   "execution_count": 7,
   "metadata": {
    "collapsed": true
   },
   "outputs": [],
   "source": [
    "from matrix_math import *"
   ]
  },
  {
   "cell_type": "code",
   "execution_count": 9,
   "metadata": {
    "collapsed": false
   },
   "outputs": [],
   "source": [
    "leslie = Matrix([[0,0.25,0.6,0.8,0.15,0],\n",
    "[0.7,0,0,0,0,0],\n",
    "[0,0.95,0,0,0,0],\n",
    "[0,0,0.9,0,0,0],\n",
    "[0,0,0,0.9,0,0],\n",
    "[0,0,0,0,0.5,0]])"
   ]
  },
  {
   "cell_type": "code",
   "execution_count": 10,
   "metadata": {
    "collapsed": false
   },
   "outputs": [
    {
     "data": {
      "text/plain": [
       "Vector([[0, 0.25, 0.6, 0.8, 0.15, 0], [0.7, 0, 0, 0, 0, 0], [0, 0.95, 0, 0, 0, 0], [0, 0, 0.9, 0, 0, 0], [0, 0, 0, 0.9, 0, 0], [0, 0, 0, 0, 0.5, 0]])"
      ]
     },
     "execution_count": 10,
     "metadata": {},
     "output_type": "execute_result"
    }
   ],
   "source": [
    "leslie"
   ]
  },
  {
   "cell_type": "code",
   "execution_count": 25,
   "metadata": {
    "collapsed": false
   },
   "outputs": [
    {
     "data": {
      "text/plain": [
       "Vector([10, 0, 0, 0, 0, 0])"
      ]
     },
     "execution_count": 25,
     "metadata": {},
     "output_type": "execute_result"
    }
   ],
   "source": [
    "drakes = Vector([10,0,0,0,0,0])\n",
    "drakes"
   ]
  },
  {
   "cell_type": "code",
   "execution_count": 34,
   "metadata": {
    "collapsed": false
   },
   "outputs": [
    {
     "name": "stdout",
     "output_type": "stream",
     "text": [
      "[10, 0, 0, 0, 0, 0] Drakes in year 0 \n",
      "[0.0, 7.0, 0.0, 0.0, 0.0, 0.0] Drakes in year 2 \n",
      "[1.0, 0.0, 6.0, 0.0, 0.0, 0.0] Drakes in year 4 \n",
      "[3.0, 1.0, 0.0, 5.0, 0.0, 0.0] Drakes in year 6 \n",
      "[5.0, 2.0, 1.0, 0.0, 5.0, 0.0] Drakes in year 8 \n",
      "[2.0, 3.0, 2.0, 1.0, 0.0, 2.0] Drakes in year 10 \n",
      "[3.0, 1.0, 3.0, 2.0, 0.0, 0.0] Drakes in year 12 \n",
      "[4.0, 2.0, 1.0, 3.0, 2.0, 0.0] Drakes in year 14 \n",
      "[4.0, 3.0, 2.0, 1.0, 2.0, 1.0] Drakes in year 16 \n",
      "[3.0, 2.0, 2.0, 1.0, 1.0, 1.0] Drakes in year 18 \n",
      "[4.0, 2.0, 2.0, 2.0, 1.0, 0.0] Drakes in year 20 \n",
      "[4.0, 3.0, 2.0, 2.0, 2.0, 0.0] Drakes in year 22 \n",
      "[4.0, 3.0, 2.0, 2.0, 2.0, 1.0] Drakes in year 24 \n",
      "[4.0, 3.0, 3.0, 2.0, 1.0, 1.0] Drakes in year 26 \n",
      "[5.0, 3.0, 3.0, 2.0, 2.0, 0.0] Drakes in year 28 \n",
      "[5.0, 3.0, 3.0, 2.0, 2.0, 1.0] Drakes in year 30 \n",
      "[5.0, 3.0, 3.0, 2.0, 2.0, 1.0] Drakes in year 32 \n",
      "[5.0, 3.0, 3.0, 3.0, 2.0, 1.0] Drakes in year 34 \n",
      "[5.0, 3.0, 3.0, 3.0, 2.0, 1.0] Drakes in year 36 \n",
      "[5.0, 4.0, 3.0, 3.0, 2.0, 1.0] Drakes in year 38 \n",
      "[6.0, 4.0, 3.0, 3.0, 2.0, 1.0] Drakes in year 40 \n"
     ]
    }
   ],
   "source": [
    "drakes = Vector([10,0,0,0,0,0])\n",
    "multiplier = leslie\n",
    "for i in range(0,41,2):\n",
    "    print('{} Drakes in year {} '.format([drake//1 for drake in drakes.my_list], i))\n",
    "    drakes = leslie * drakes\n",
    "    \n"
   ]
  },
  {
   "cell_type": "code",
   "execution_count": null,
   "metadata": {
    "collapsed": true
   },
   "outputs": [],
   "source": []
  }
 ],
 "metadata": {
  "kernelspec": {
   "display_name": "Python 3",
   "language": "python",
   "name": "python3"
  },
  "language_info": {
   "codemirror_mode": {
    "name": "ipython",
    "version": 3
   },
   "file_extension": ".py",
   "mimetype": "text/x-python",
   "name": "python",
   "nbconvert_exporter": "python",
   "pygments_lexer": "ipython3",
   "version": "3.4.3"
  }
 },
 "nbformat": 4,
 "nbformat_minor": 0
}
